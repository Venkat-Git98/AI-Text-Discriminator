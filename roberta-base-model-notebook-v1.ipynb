{
 "cells": [
  {
   "cell_type": "code",
   "execution_count": 1,
   "metadata": {},
   "outputs": [],
   "source": [
    "import numpy as np\n",
    "import pandas as pd\n",
    "import opendatasets as od\n",
    "\n",
    "import os\n",
    "import warnings\n",
    "import torch\n",
    "\n",
    "import datasets\n",
    "from sklearn.model_selection import train_test_split\n",
    "from sklearn.metrics import accuracy_score, precision_recall_fscore_support\n",
    "from transformers import RobertaTokenizer, RobertaForSequenceClassification, TrainingArguments, Trainer\n",
    "\n",
    "pd.set_option('display.max_columns', None)\n",
    "warnings.filterwarnings('ignore')\n",
    "torch.cuda.empty_cache()\n",
    "np.random.seed(42)"
   ]
  },
  {
   "cell_type": "code",
   "execution_count": 2,
   "metadata": {},
   "outputs": [],
   "source": [
    "data_path_dict = {\n",
    "    'data_path': '../data',\n",
    "    'model_data': '../data/model_data',\n",
    "    'data_subset': '../data/model_data/data_subset',\n",
    "    'models': '../data/models'\n",
    "}\n",
    "\n",
    "for file_path_key in data_path_dict:\n",
    "    if not os.path.exists(data_path_dict[file_path_key]):\n",
    "        print(f'Path does not Exist: {data_path_dict[file_path_key]}')\n",
    "\n",
    "        os.makedirs(data_path_dict[file_path_key])"
   ]
  },
  {
   "cell_type": "code",
   "execution_count": 3,
   "metadata": {},
   "outputs": [],
   "source": [
    "if not (os.path.exists('../data/human-vs-llm-text-corpus') or os.path.exists('../data/human_vs_llm_text_corpus')):\n",
    "    od.download(dataset_id_or_url=\"https://www.kaggle.com/datasets/starblasters8/human-vs-llm-text-corpus\", data_dir='../data/')\n",
    "    os.rename('../data/human-vs-llm-text-corpus/', '../data/human_vs_llm_text_corpus/')"
   ]
  },
  {
   "cell_type": "code",
   "execution_count": 4,
   "metadata": {},
   "outputs": [
    {
     "data": {
      "text/plain": [
       "device(type='cuda')"
      ]
     },
     "execution_count": 4,
     "metadata": {},
     "output_type": "execute_result"
    }
   ],
   "source": [
    "raw_data_path = '../data/human_vs_llm_text_corpus/data.parquet'\n",
    "data_subset_path = '../data/model_data/data_subset/'\n",
    "\n",
    "device = torch.device(\"cuda\" if torch.cuda.is_available() else \"cpu\")\n",
    "device"
   ]
  },
  {
   "cell_type": "code",
   "execution_count": 5,
   "metadata": {},
   "outputs": [
    {
     "data": {
      "text/plain": [
       "((49940,), (1040,), (1020,))"
      ]
     },
     "execution_count": 5,
     "metadata": {},
     "output_type": "execute_result"
    }
   ],
   "source": [
    "raw_data = pd.read_parquet(raw_data_path)\n",
    "\n",
    "raw_data = raw_data[raw_data['source'].isin(['Human', 'GPT-3.5'])]\n",
    "raw_data = raw_data.groupby('source').apply(lambda row: row.sample(n=26000)).reset_index(drop=True)\n",
    "\n",
    "raw_data['source'] = np.where(raw_data['source'] == 'Human', 0, 1)\n",
    "\n",
    "X_train, X_test, y_train, y_test = train_test_split(raw_data['text'], raw_data['source'], test_size=0.02, stratify=raw_data['source'], random_state=42)\n",
    "X_train, X_val, y_train, y_val = train_test_split(X_train, y_train, test_size=0.02, stratify=y_train, random_state=42)\n",
    "\n",
    "X_train.shape, X_test.shape, X_val.shape"
   ]
  },
  {
   "cell_type": "code",
   "execution_count": 6,
   "metadata": {},
   "outputs": [
    {
     "name": "stderr",
     "output_type": "stream",
     "text": [
      "Some weights of RobertaForSequenceClassification were not initialized from the model checkpoint at roberta-base and are newly initialized: ['classifier.dense.bias', 'classifier.dense.weight', 'classifier.out_proj.bias', 'classifier.out_proj.weight']\n",
      "You should probably TRAIN this model on a down-stream task to be able to use it for predictions and inference.\n"
     ]
    },
    {
     "name": "stdout",
     "output_type": "stream",
     "text": [
      "Trainable parameters: 124,647,170\n",
      "Non-trainable parameters: 0\n",
      "Trainable parameters: 14,175,744\n",
      "Non-trainable parameters: 110,471,426\n"
     ]
    }
   ],
   "source": [
    "def count_parameters(model):\n",
    "    trainable_params = sum(p.numel() for p in model.parameters() if p.requires_grad)\n",
    "    non_trainable_params = sum(p.numel() for p in model.parameters() if not p.requires_grad)\n",
    "    return trainable_params, non_trainable_params\n",
    "\n",
    "tokenizer = RobertaTokenizer.from_pretrained('roberta-base', max_length=1024, is_split_into_words=True)\n",
    "model = RobertaForSequenceClassification.from_pretrained('roberta-base', num_labels=2)\n",
    "\n",
    "trainable_params, non_trainable_params = count_parameters(model)\n",
    "print(f\"Trainable parameters: {trainable_params:,}\")\n",
    "print(f\"Non-trainable parameters: {non_trainable_params:,}\")\n",
    "\n",
    "for param in model.parameters():\n",
    "    param.requires_grad = False\n",
    "\n",
    "for param in model.roberta.encoder.layer[-2:].parameters():\n",
    "    param.requires_grad = True\n",
    "\n",
    "trainable_params, non_trainable_params = count_parameters(model)\n",
    "print(f\"Trainable parameters: {trainable_params:,}\")\n",
    "print(f\"Non-trainable parameters: {non_trainable_params:,}\")"
   ]
  },
  {
   "cell_type": "code",
   "execution_count": 7,
   "metadata": {},
   "outputs": [
    {
     "data": {
      "application/vnd.jupyter.widget-view+json": {
       "model_id": "c0dae54cfb2b4c53b762cea4b84c6d55",
       "version_major": 2,
       "version_minor": 0
      },
      "text/plain": [
       "Map:   0%|          | 0/49940 [00:00<?, ? examples/s]"
      ]
     },
     "metadata": {},
     "output_type": "display_data"
    },
    {
     "data": {
      "application/vnd.jupyter.widget-view+json": {
       "model_id": "cab4e152814641de940b157485bec2c5",
       "version_major": 2,
       "version_minor": 0
      },
      "text/plain": [
       "Map:   0%|          | 0/1020 [00:00<?, ? examples/s]"
      ]
     },
     "metadata": {},
     "output_type": "display_data"
    },
    {
     "data": {
      "application/vnd.jupyter.widget-view+json": {
       "model_id": "124edc06bbe54a47a88ac9630cee1729",
       "version_major": 2,
       "version_minor": 0
      },
      "text/plain": [
       "Map:   0%|          | 0/1040 [00:00<?, ? examples/s]"
      ]
     },
     "metadata": {},
     "output_type": "display_data"
    }
   ],
   "source": [
    "train_dataset = datasets.Dataset.from_dict({'text': X_train, 'labels': y_train})\n",
    "val_dataset = datasets.Dataset.from_dict({'text': X_val, 'labels': y_val})\n",
    "test_dataset = datasets.Dataset.from_dict({'text': X_test, 'labels': y_test})\n",
    "\n",
    "def tokenization(batched_text):\n",
    "    return tokenizer(batched_text['text'], padding=True, truncation=True)\n",
    "\n",
    "train_dataset = train_dataset.map(tokenization, batched=True, batch_size=128)\n",
    "val_dataset = val_dataset.map(tokenization, batched=True, batch_size=128)\n",
    "test_dataset = test_dataset.map(tokenization, batched=True, batch_size=128)"
   ]
  },
  {
   "cell_type": "code",
   "execution_count": 8,
   "metadata": {},
   "outputs": [],
   "source": [
    "train_dataset.set_format('torch', columns=['input_ids', 'attention_mask', 'labels'])\n",
    "val_dataset.set_format('torch', columns=['input_ids', 'attention_mask', 'labels'])\n",
    "test_dataset.set_format('torch', columns=['input_ids', 'attention_mask', 'labels'])"
   ]
  },
  {
   "cell_type": "code",
   "execution_count": 9,
   "metadata": {},
   "outputs": [],
   "source": [
    "def compute_metrics(pred):\n",
    "    labels = pred.label_ids\n",
    "    preds = pred.predictions.argmax(-1)\n",
    "\n",
    "    precision, recall, f1, _ = precision_recall_fscore_support(labels, preds, average='binary')\n",
    "    acc = accuracy_score(labels, preds)\n",
    "\n",
    "    return {'accuracy': acc, 'f1': f1, 'precision': precision, 'recall': recall}"
   ]
  },
  {
   "cell_type": "code",
   "execution_count": 10,
   "metadata": {},
   "outputs": [],
   "source": [
    "training_args = TrainingArguments(\n",
    "    output_dir='../data/models/roberta_base_model_checkpoint', num_train_epochs=5, per_device_train_batch_size=8, per_device_eval_batch_size=8,\n",
    "    gradient_accumulation_steps=8, disable_tqdm=False, load_best_model_at_end=True, overwrite_output_dir=True,\n",
    "    logging_steps=8, fp16 = True, logging_dir='../model_logs', dataloader_num_workers = 8,\n",
    "    run_name = 'roberta-base-classification-v1', evaluation_strategy='epoch', save_strategy='epoch')"
   ]
  },
  {
   "cell_type": "code",
   "execution_count": 11,
   "metadata": {},
   "outputs": [],
   "source": [
    "trainer = Trainer(\n",
    "    model=model, args=training_args, compute_metrics=compute_metrics,\n",
    "    train_dataset=train_dataset, eval_dataset=val_dataset)"
   ]
  },
  {
   "cell_type": "code",
   "execution_count": 12,
   "metadata": {},
   "outputs": [
    {
     "data": {
      "application/vnd.jupyter.widget-view+json": {
       "model_id": "cd7fd1a8a0fe407ba4b829fecb71518f",
       "version_major": 2,
       "version_minor": 0
      },
      "text/plain": [
       "  0%|          | 0/3900 [00:00<?, ?it/s]"
      ]
     },
     "metadata": {},
     "output_type": "display_data"
    },
    {
     "name": "stdout",
     "output_type": "stream",
     "text": [
      "{'loss': 0.6851, 'grad_norm': 0.6409693360328674, 'learning_rate': 4.9897435897435904e-05, 'epoch': 0.01}\n",
      "{'loss': 0.6444, 'grad_norm': 1.40797758102417, 'learning_rate': 4.979487179487179e-05, 'epoch': 0.02}\n",
      "{'loss': 0.5061, 'grad_norm': 2.27135968208313, 'learning_rate': 4.969230769230769e-05, 'epoch': 0.03}\n",
      "{'loss': 0.3192, 'grad_norm': 1.144919753074646, 'learning_rate': 4.9589743589743594e-05, 'epoch': 0.04}\n",
      "{'loss': 0.2051, 'grad_norm': 3.2549245357513428, 'learning_rate': 4.948717948717949e-05, 'epoch': 0.05}\n",
      "{'loss': 0.1739, 'grad_norm': 1.5920976400375366, 'learning_rate': 4.9384615384615384e-05, 'epoch': 0.06}\n",
      "{'loss': 0.1643, 'grad_norm': 2.354426860809326, 'learning_rate': 4.9282051282051285e-05, 'epoch': 0.07}\n",
      "{'loss': 0.1639, 'grad_norm': 2.9242634773254395, 'learning_rate': 4.917948717948718e-05, 'epoch': 0.08}\n",
      "{'loss': 0.1668, 'grad_norm': 0.9624106287956238, 'learning_rate': 4.907692307692308e-05, 'epoch': 0.09}\n",
      "{'loss': 0.0959, 'grad_norm': 2.321692705154419, 'learning_rate': 4.8974358974358975e-05, 'epoch': 0.1}\n",
      "{'loss': 0.1118, 'grad_norm': 0.7696384191513062, 'learning_rate': 4.887179487179488e-05, 'epoch': 0.11}\n",
      "{'loss': 0.0978, 'grad_norm': 5.573319911956787, 'learning_rate': 4.876923076923077e-05, 'epoch': 0.12}\n",
      "{'loss': 0.0808, 'grad_norm': 1.0381345748901367, 'learning_rate': 4.866666666666667e-05, 'epoch': 0.13}\n",
      "{'loss': 0.0688, 'grad_norm': 3.5849521160125732, 'learning_rate': 4.856410256410257e-05, 'epoch': 0.14}\n",
      "{'loss': 0.0569, 'grad_norm': 3.589350461959839, 'learning_rate': 4.846153846153846e-05, 'epoch': 0.15}\n",
      "{'loss': 0.0936, 'grad_norm': 3.977216958999634, 'learning_rate': 4.835897435897436e-05, 'epoch': 0.16}\n",
      "{'loss': 0.0698, 'grad_norm': 2.827488899230957, 'learning_rate': 4.825641025641026e-05, 'epoch': 0.17}\n",
      "{'loss': 0.0591, 'grad_norm': 3.4000229835510254, 'learning_rate': 4.815384615384615e-05, 'epoch': 0.18}\n",
      "{'loss': 0.0584, 'grad_norm': 2.9651665687561035, 'learning_rate': 4.8051282051282054e-05, 'epoch': 0.19}\n",
      "{'loss': 0.0591, 'grad_norm': 4.2963480949401855, 'learning_rate': 4.7948717948717955e-05, 'epoch': 0.21}\n",
      "{'loss': 0.0792, 'grad_norm': 4.461528778076172, 'learning_rate': 4.784615384615384e-05, 'epoch': 0.22}\n",
      "{'loss': 0.1087, 'grad_norm': 2.9768972396850586, 'learning_rate': 4.7743589743589744e-05, 'epoch': 0.23}\n",
      "{'loss': 0.0496, 'grad_norm': 3.469917058944702, 'learning_rate': 4.7641025641025646e-05, 'epoch': 0.24}\n",
      "{'loss': 0.049, 'grad_norm': 2.3633415699005127, 'learning_rate': 4.753846153846154e-05, 'epoch': 0.25}\n",
      "{'loss': 0.0368, 'grad_norm': 2.3360555171966553, 'learning_rate': 4.744871794871795e-05, 'epoch': 0.26}\n",
      "{'loss': 0.0526, 'grad_norm': 1.984856367111206, 'learning_rate': 4.734615384615385e-05, 'epoch': 0.27}\n",
      "{'loss': 0.062, 'grad_norm': 2.1570940017700195, 'learning_rate': 4.7243589743589746e-05, 'epoch': 0.28}\n",
      "{'loss': 0.0697, 'grad_norm': 6.589547157287598, 'learning_rate': 4.714102564102564e-05, 'epoch': 0.29}\n",
      "{'loss': 0.0741, 'grad_norm': 1.370079517364502, 'learning_rate': 4.703846153846154e-05, 'epoch': 0.3}\n",
      "{'loss': 0.0644, 'grad_norm': 7.468949794769287, 'learning_rate': 4.6935897435897436e-05, 'epoch': 0.31}\n",
      "{'loss': 0.0637, 'grad_norm': 2.0130889415740967, 'learning_rate': 4.683333333333334e-05, 'epoch': 0.32}\n",
      "{'loss': 0.0625, 'grad_norm': 0.5541841387748718, 'learning_rate': 4.673076923076923e-05, 'epoch': 0.33}\n",
      "{'loss': 0.1044, 'grad_norm': 4.124673366546631, 'learning_rate': 4.6628205128205134e-05, 'epoch': 0.34}\n",
      "{'loss': 0.0569, 'grad_norm': 0.698146641254425, 'learning_rate': 4.652564102564103e-05, 'epoch': 0.35}\n",
      "{'loss': 0.0417, 'grad_norm': 0.6371325850486755, 'learning_rate': 4.642307692307692e-05, 'epoch': 0.36}\n",
      "{'loss': 0.0587, 'grad_norm': 0.4630875587463379, 'learning_rate': 4.6320512820512824e-05, 'epoch': 0.37}\n",
      "{'loss': 0.0471, 'grad_norm': 1.0625773668289185, 'learning_rate': 4.6217948717948726e-05, 'epoch': 0.38}\n",
      "{'loss': 0.0354, 'grad_norm': 8.652812004089355, 'learning_rate': 4.6115384615384614e-05, 'epoch': 0.39}\n",
      "{'loss': 0.0662, 'grad_norm': 9.511592864990234, 'learning_rate': 4.6012820512820515e-05, 'epoch': 0.4}\n",
      "{'loss': 0.0555, 'grad_norm': 5.551900386810303, 'learning_rate': 4.5910256410256416e-05, 'epoch': 0.41}\n",
      "{'loss': 0.083, 'grad_norm': 10.212596893310547, 'learning_rate': 4.580769230769231e-05, 'epoch': 0.42}\n",
      "{'loss': 0.0376, 'grad_norm': 2.6610851287841797, 'learning_rate': 4.5705128205128205e-05, 'epoch': 0.43}\n",
      "{'loss': 0.0563, 'grad_norm': 2.7147598266601562, 'learning_rate': 4.560256410256411e-05, 'epoch': 0.44}\n",
      "{'loss': 0.0698, 'grad_norm': 1.7709826231002808, 'learning_rate': 4.55e-05, 'epoch': 0.45}\n",
      "{'loss': 0.0659, 'grad_norm': 6.349332332611084, 'learning_rate': 4.5397435897435896e-05, 'epoch': 0.46}\n",
      "{'loss': 0.0581, 'grad_norm': 0.6901795268058777, 'learning_rate': 4.52948717948718e-05, 'epoch': 0.47}\n",
      "{'loss': 0.0714, 'grad_norm': 1.6241627931594849, 'learning_rate': 4.519230769230769e-05, 'epoch': 0.48}\n",
      "{'loss': 0.0717, 'grad_norm': 2.5914366245269775, 'learning_rate': 4.508974358974359e-05, 'epoch': 0.49}\n",
      "{'loss': 0.037, 'grad_norm': 0.3473163843154907, 'learning_rate': 4.498717948717949e-05, 'epoch': 0.5}\n",
      "{'loss': 0.0591, 'grad_norm': 15.01072883605957, 'learning_rate': 4.488461538461539e-05, 'epoch': 0.51}\n",
      "{'loss': 0.0321, 'grad_norm': 1.4895979166030884, 'learning_rate': 4.4782051282051284e-05, 'epoch': 0.52}\n",
      "{'loss': 0.0676, 'grad_norm': 1.3677399158477783, 'learning_rate': 4.4679487179487185e-05, 'epoch': 0.53}\n",
      "{'loss': 0.0613, 'grad_norm': 5.1200432777404785, 'learning_rate': 4.457692307692308e-05, 'epoch': 0.54}\n",
      "{'loss': 0.0518, 'grad_norm': 2.7347514629364014, 'learning_rate': 4.4474358974358974e-05, 'epoch': 0.55}\n",
      "{'loss': 0.0416, 'grad_norm': 1.3838353157043457, 'learning_rate': 4.4371794871794876e-05, 'epoch': 0.56}\n",
      "{'loss': 0.0353, 'grad_norm': 2.226639986038208, 'learning_rate': 4.426923076923078e-05, 'epoch': 0.57}\n",
      "{'loss': 0.026, 'grad_norm': 2.107738971710205, 'learning_rate': 4.4166666666666665e-05, 'epoch': 0.58}\n",
      "{'loss': 0.0366, 'grad_norm': 2.247102975845337, 'learning_rate': 4.4064102564102566e-05, 'epoch': 0.59}\n",
      "{'loss': 0.036, 'grad_norm': 1.3636977672576904, 'learning_rate': 4.396153846153847e-05, 'epoch': 0.6}\n",
      "{'loss': 0.068, 'grad_norm': 9.810279846191406, 'learning_rate': 4.3858974358974356e-05, 'epoch': 0.62}\n",
      "{'loss': 0.0551, 'grad_norm': 12.74260139465332, 'learning_rate': 4.375641025641026e-05, 'epoch': 0.63}\n",
      "{'loss': 0.0482, 'grad_norm': 0.5756582021713257, 'learning_rate': 4.365384615384616e-05, 'epoch': 0.64}\n",
      "{'loss': 0.0237, 'grad_norm': 0.4147740602493286, 'learning_rate': 4.355128205128205e-05, 'epoch': 0.65}\n",
      "{'loss': 0.0342, 'grad_norm': 3.2802958488464355, 'learning_rate': 4.344871794871795e-05, 'epoch': 0.66}\n",
      "{'loss': 0.0221, 'grad_norm': 0.8521530032157898, 'learning_rate': 4.334615384615385e-05, 'epoch': 0.67}\n",
      "{'loss': 0.0553, 'grad_norm': 4.320558547973633, 'learning_rate': 4.3243589743589744e-05, 'epoch': 0.68}\n",
      "{'loss': 0.0675, 'grad_norm': 13.372381210327148, 'learning_rate': 4.3141025641025645e-05, 'epoch': 0.69}\n",
      "{'loss': 0.0269, 'grad_norm': 1.432672381401062, 'learning_rate': 4.303846153846154e-05, 'epoch': 0.7}\n",
      "{'loss': 0.0409, 'grad_norm': 0.1822134107351303, 'learning_rate': 4.293589743589744e-05, 'epoch': 0.71}\n",
      "{'loss': 0.0506, 'grad_norm': 6.3615570068359375, 'learning_rate': 4.2833333333333335e-05, 'epoch': 0.72}\n",
      "{'loss': 0.0398, 'grad_norm': 1.0590004920959473, 'learning_rate': 4.273076923076924e-05, 'epoch': 0.73}\n",
      "{'loss': 0.0514, 'grad_norm': 6.497317790985107, 'learning_rate': 4.262820512820513e-05, 'epoch': 0.74}\n",
      "{'loss': 0.0437, 'grad_norm': 2.899477005004883, 'learning_rate': 4.2525641025641026e-05, 'epoch': 0.75}\n",
      "{'loss': 0.0216, 'grad_norm': 2.0544910430908203, 'learning_rate': 4.242307692307693e-05, 'epoch': 0.76}\n",
      "{'loss': 0.0376, 'grad_norm': 0.8340820670127869, 'learning_rate': 4.232051282051282e-05, 'epoch': 0.77}\n",
      "{'loss': 0.0233, 'grad_norm': 0.6589638590812683, 'learning_rate': 4.2217948717948717e-05, 'epoch': 0.78}\n",
      "{'loss': 0.0412, 'grad_norm': 4.052987098693848, 'learning_rate': 4.211538461538462e-05, 'epoch': 0.79}\n",
      "{'loss': 0.0369, 'grad_norm': 9.853805541992188, 'learning_rate': 4.201282051282052e-05, 'epoch': 0.8}\n",
      "{'loss': 0.0363, 'grad_norm': 5.040184497833252, 'learning_rate': 4.191025641025641e-05, 'epoch': 0.81}\n",
      "{'loss': 0.0514, 'grad_norm': 3.158189058303833, 'learning_rate': 4.180769230769231e-05, 'epoch': 0.82}\n",
      "{'loss': 0.0394, 'grad_norm': 3.039315700531006, 'learning_rate': 4.170512820512821e-05, 'epoch': 0.83}\n",
      "{'loss': 0.0399, 'grad_norm': 2.4135701656341553, 'learning_rate': 4.1602564102564104e-05, 'epoch': 0.84}\n",
      "{'loss': 0.0395, 'grad_norm': 4.562719345092773, 'learning_rate': 4.15e-05, 'epoch': 0.85}\n",
      "{'loss': 0.0388, 'grad_norm': 3.170884370803833, 'learning_rate': 4.13974358974359e-05, 'epoch': 0.86}\n",
      "{'loss': 0.0272, 'grad_norm': 3.1073989868164062, 'learning_rate': 4.1294871794871795e-05, 'epoch': 0.87}\n",
      "{'loss': 0.0685, 'grad_norm': 4.309351921081543, 'learning_rate': 4.1192307692307696e-05, 'epoch': 0.88}\n",
      "{'loss': 0.0408, 'grad_norm': 4.068314552307129, 'learning_rate': 4.108974358974359e-05, 'epoch': 0.89}\n",
      "{'loss': 0.018, 'grad_norm': 0.18375353515148163, 'learning_rate': 4.0987179487179486e-05, 'epoch': 0.9}\n",
      "{'loss': 0.0758, 'grad_norm': 6.133911609649658, 'learning_rate': 4.088461538461539e-05, 'epoch': 0.91}\n",
      "{'loss': 0.0335, 'grad_norm': 4.3703155517578125, 'learning_rate': 4.078205128205129e-05, 'epoch': 0.92}\n",
      "{'loss': 0.0524, 'grad_norm': 3.6463959217071533, 'learning_rate': 4.067948717948718e-05, 'epoch': 0.93}\n",
      "{'loss': 0.038, 'grad_norm': 0.23392659425735474, 'learning_rate': 4.057692307692308e-05, 'epoch': 0.94}\n",
      "{'loss': 0.0523, 'grad_norm': 3.6391704082489014, 'learning_rate': 4.047435897435898e-05, 'epoch': 0.95}\n",
      "{'loss': 0.0548, 'grad_norm': 3.0995121002197266, 'learning_rate': 4.0371794871794874e-05, 'epoch': 0.96}\n",
      "{'loss': 0.0357, 'grad_norm': 0.9368243217468262, 'learning_rate': 4.026923076923077e-05, 'epoch': 0.97}\n",
      "{'loss': 0.0789, 'grad_norm': 0.1913498044013977, 'learning_rate': 4.016666666666667e-05, 'epoch': 0.98}\n",
      "{'loss': 0.0478, 'grad_norm': 0.8762964010238647, 'learning_rate': 4.006410256410257e-05, 'epoch': 0.99}\n"
     ]
    },
    {
     "data": {
      "application/vnd.jupyter.widget-view+json": {
       "model_id": "caf843c99b8d499dbfb112c59a46f68f",
       "version_major": 2,
       "version_minor": 0
      },
      "text/plain": [
       "  0%|          | 0/128 [00:00<?, ?it/s]"
      ]
     },
     "metadata": {},
     "output_type": "display_data"
    },
    {
     "name": "stdout",
     "output_type": "stream",
     "text": [
      "{'eval_loss': 0.09480076283216476, 'eval_accuracy': 0.9715686274509804, 'eval_f1': 0.9722488038277513, 'eval_precision': 0.9495327102803738, 'eval_recall': 0.996078431372549, 'eval_runtime': 27.7572, 'eval_samples_per_second': 36.747, 'eval_steps_per_second': 4.611, 'epoch': 1.0}\n",
      "{'loss': 0.0374, 'grad_norm': 1.575455665588379, 'learning_rate': 3.996153846153846e-05, 'epoch': 1.0}\n",
      "{'loss': 0.0326, 'grad_norm': 0.11803194135427475, 'learning_rate': 3.985897435897436e-05, 'epoch': 1.01}\n",
      "{'loss': 0.0444, 'grad_norm': 6.529575824737549, 'learning_rate': 3.975641025641026e-05, 'epoch': 1.03}\n",
      "{'loss': 0.0237, 'grad_norm': 0.38208717107772827, 'learning_rate': 3.9653846153846156e-05, 'epoch': 1.04}\n",
      "{'loss': 0.0275, 'grad_norm': 0.7189464569091797, 'learning_rate': 3.955128205128205e-05, 'epoch': 1.05}\n",
      "{'loss': 0.0258, 'grad_norm': 1.602541208267212, 'learning_rate': 3.944871794871795e-05, 'epoch': 1.06}\n",
      "{'loss': 0.0478, 'grad_norm': 1.2721970081329346, 'learning_rate': 3.9346153846153847e-05, 'epoch': 1.07}\n",
      "{'loss': 0.0251, 'grad_norm': 2.604503631591797, 'learning_rate': 3.924358974358975e-05, 'epoch': 1.08}\n",
      "{'loss': 0.0642, 'grad_norm': 3.088615655899048, 'learning_rate': 3.914102564102564e-05, 'epoch': 1.09}\n",
      "{'loss': 0.0161, 'grad_norm': 0.6737252473831177, 'learning_rate': 3.903846153846154e-05, 'epoch': 1.1}\n",
      "{'loss': 0.0162, 'grad_norm': 0.2708469331264496, 'learning_rate': 3.893589743589744e-05, 'epoch': 1.11}\n",
      "{'loss': 0.0248, 'grad_norm': 4.548181533813477, 'learning_rate': 3.883333333333333e-05, 'epoch': 1.12}\n",
      "{'loss': 0.0377, 'grad_norm': 5.4820780754089355, 'learning_rate': 3.8730769230769234e-05, 'epoch': 1.13}\n",
      "{'loss': 0.0155, 'grad_norm': 2.5898518562316895, 'learning_rate': 3.862820512820513e-05, 'epoch': 1.14}\n",
      "{'loss': 0.0292, 'grad_norm': 5.377974033355713, 'learning_rate': 3.852564102564103e-05, 'epoch': 1.15}\n",
      "{'loss': 0.0296, 'grad_norm': 2.7878947257995605, 'learning_rate': 3.8423076923076925e-05, 'epoch': 1.16}\n",
      "{'loss': 0.0228, 'grad_norm': 0.9890052676200867, 'learning_rate': 3.832051282051282e-05, 'epoch': 1.17}\n",
      "{'loss': 0.0316, 'grad_norm': 3.165534019470215, 'learning_rate': 3.821794871794872e-05, 'epoch': 1.18}\n",
      "{'loss': 0.0252, 'grad_norm': 0.4124819338321686, 'learning_rate': 3.811538461538462e-05, 'epoch': 1.19}\n",
      "{'loss': 0.0572, 'grad_norm': 1.7676414251327515, 'learning_rate': 3.801282051282051e-05, 'epoch': 1.2}\n",
      "{'loss': 0.0498, 'grad_norm': 3.1157100200653076, 'learning_rate': 3.791025641025641e-05, 'epoch': 1.21}\n",
      "{'loss': 0.0622, 'grad_norm': 7.463926315307617, 'learning_rate': 3.780769230769231e-05, 'epoch': 1.22}\n",
      "{'loss': 0.0248, 'grad_norm': 6.3362627029418945, 'learning_rate': 3.770512820512821e-05, 'epoch': 1.23}\n",
      "{'loss': 0.0331, 'grad_norm': 0.18869549036026, 'learning_rate': 3.76025641025641e-05, 'epoch': 1.24}\n",
      "{'loss': 0.0289, 'grad_norm': 2.142979145050049, 'learning_rate': 3.7500000000000003e-05, 'epoch': 1.25}\n",
      "{'loss': 0.0174, 'grad_norm': 7.355159759521484, 'learning_rate': 3.73974358974359e-05, 'epoch': 1.26}\n",
      "{'loss': 0.0425, 'grad_norm': 5.482226848602295, 'learning_rate': 3.729487179487179e-05, 'epoch': 1.27}\n",
      "{'loss': 0.0316, 'grad_norm': 5.742188930511475, 'learning_rate': 3.7192307692307694e-05, 'epoch': 1.28}\n",
      "{'loss': 0.0271, 'grad_norm': 0.017102349549531937, 'learning_rate': 3.708974358974359e-05, 'epoch': 1.29}\n",
      "{'loss': 0.0356, 'grad_norm': 1.0499231815338135, 'learning_rate': 3.698717948717949e-05, 'epoch': 1.3}\n",
      "{'loss': 0.0343, 'grad_norm': 0.7456263899803162, 'learning_rate': 3.6884615384615385e-05, 'epoch': 1.31}\n",
      "{'loss': 0.04, 'grad_norm': 0.6079431772232056, 'learning_rate': 3.6782051282051286e-05, 'epoch': 1.32}\n",
      "{'loss': 0.0426, 'grad_norm': 7.250718593597412, 'learning_rate': 3.667948717948718e-05, 'epoch': 1.33}\n",
      "{'loss': 0.0343, 'grad_norm': 1.892744541168213, 'learning_rate': 3.657692307692308e-05, 'epoch': 1.34}\n",
      "{'loss': 0.026, 'grad_norm': 1.1209219694137573, 'learning_rate': 3.6474358974358977e-05, 'epoch': 1.35}\n",
      "{'loss': 0.035, 'grad_norm': 1.4129438400268555, 'learning_rate': 3.637179487179487e-05, 'epoch': 1.36}\n",
      "{'loss': 0.0116, 'grad_norm': 0.15472356975078583, 'learning_rate': 3.626923076923077e-05, 'epoch': 1.37}\n",
      "{'loss': 0.0196, 'grad_norm': 0.1703249216079712, 'learning_rate': 3.6166666666666674e-05, 'epoch': 1.38}\n",
      "{'loss': 0.0203, 'grad_norm': 0.07188340276479721, 'learning_rate': 3.606410256410256e-05, 'epoch': 1.39}\n",
      "{'loss': 0.0466, 'grad_norm': 0.17099612951278687, 'learning_rate': 3.596153846153846e-05, 'epoch': 1.4}\n",
      "{'loss': 0.0172, 'grad_norm': 0.6577102541923523, 'learning_rate': 3.5858974358974364e-05, 'epoch': 1.41}\n",
      "{'loss': 0.0551, 'grad_norm': 2.417534828186035, 'learning_rate': 3.575641025641025e-05, 'epoch': 1.42}\n",
      "{'loss': 0.0246, 'grad_norm': 1.8697378635406494, 'learning_rate': 3.5653846153846154e-05, 'epoch': 1.44}\n",
      "{'loss': 0.0401, 'grad_norm': 1.0896412134170532, 'learning_rate': 3.5551282051282055e-05, 'epoch': 1.45}\n",
      "{'loss': 0.0402, 'grad_norm': 0.8937222957611084, 'learning_rate': 3.544871794871795e-05, 'epoch': 1.46}\n",
      "{'loss': 0.0155, 'grad_norm': 6.081546306610107, 'learning_rate': 3.5346153846153844e-05, 'epoch': 1.47}\n",
      "{'loss': 0.0459, 'grad_norm': 7.525559902191162, 'learning_rate': 3.5243589743589746e-05, 'epoch': 1.48}\n",
      "{'loss': 0.0162, 'grad_norm': 0.5017116665840149, 'learning_rate': 3.514102564102564e-05, 'epoch': 1.49}\n",
      "{'loss': 0.0218, 'grad_norm': 3.9241538047790527, 'learning_rate': 3.503846153846154e-05, 'epoch': 1.5}\n",
      "{'loss': 0.0063, 'grad_norm': 1.503730058670044, 'learning_rate': 3.4935897435897436e-05, 'epoch': 1.51}\n",
      "{'loss': 0.0236, 'grad_norm': 1.3895593881607056, 'learning_rate': 3.483333333333334e-05, 'epoch': 1.52}\n",
      "{'loss': 0.0428, 'grad_norm': 4.030040264129639, 'learning_rate': 3.473076923076923e-05, 'epoch': 1.53}\n",
      "{'loss': 0.0331, 'grad_norm': 1.8342384099960327, 'learning_rate': 3.4628205128205133e-05, 'epoch': 1.54}\n",
      "{'loss': 0.0291, 'grad_norm': 3.684844732284546, 'learning_rate': 3.452564102564103e-05, 'epoch': 1.55}\n",
      "{'loss': 0.0171, 'grad_norm': 0.43150538206100464, 'learning_rate': 3.442307692307692e-05, 'epoch': 1.56}\n",
      "{'loss': 0.0093, 'grad_norm': 0.37683212757110596, 'learning_rate': 3.4320512820512824e-05, 'epoch': 1.57}\n",
      "{'loss': 0.0242, 'grad_norm': 1.5903277397155762, 'learning_rate': 3.421794871794872e-05, 'epoch': 1.58}\n",
      "{'loss': 0.0368, 'grad_norm': 8.20220947265625, 'learning_rate': 3.411538461538461e-05, 'epoch': 1.59}\n",
      "{'loss': 0.0415, 'grad_norm': 0.6329403519630432, 'learning_rate': 3.4012820512820515e-05, 'epoch': 1.6}\n",
      "{'loss': 0.0229, 'grad_norm': 0.2580823302268982, 'learning_rate': 3.3910256410256416e-05, 'epoch': 1.61}\n",
      "{'loss': 0.0367, 'grad_norm': 2.0731112957000732, 'learning_rate': 3.3807692307692304e-05, 'epoch': 1.62}\n",
      "{'loss': 0.0447, 'grad_norm': 3.936021566390991, 'learning_rate': 3.3705128205128205e-05, 'epoch': 1.63}\n",
      "{'loss': 0.0445, 'grad_norm': 1.9867552518844604, 'learning_rate': 3.3602564102564107e-05, 'epoch': 1.64}\n",
      "{'loss': 0.0185, 'grad_norm': 2.185635805130005, 'learning_rate': 3.35e-05, 'epoch': 1.65}\n",
      "{'loss': 0.0186, 'grad_norm': 5.304299831390381, 'learning_rate': 3.3397435897435896e-05, 'epoch': 1.66}\n",
      "{'loss': 0.0307, 'grad_norm': 4.52300500869751, 'learning_rate': 3.32948717948718e-05, 'epoch': 1.67}\n",
      "{'loss': 0.028, 'grad_norm': 0.9234077334403992, 'learning_rate': 3.319230769230769e-05, 'epoch': 1.68}\n",
      "{'loss': 0.0234, 'grad_norm': 0.7336437702178955, 'learning_rate': 3.308974358974359e-05, 'epoch': 1.69}\n",
      "{'loss': 0.0512, 'grad_norm': 3.4555699825286865, 'learning_rate': 3.298717948717949e-05, 'epoch': 1.7}\n",
      "{'loss': 0.0433, 'grad_norm': 2.1784167289733887, 'learning_rate': 3.288461538461539e-05, 'epoch': 1.71}\n",
      "{'loss': 0.0243, 'grad_norm': 0.7815567851066589, 'learning_rate': 3.2782051282051284e-05, 'epoch': 1.72}\n",
      "{'loss': 0.0216, 'grad_norm': 0.04959630221128464, 'learning_rate': 3.2679487179487185e-05, 'epoch': 1.73}\n",
      "{'loss': 0.0357, 'grad_norm': 0.3897118866443634, 'learning_rate': 3.257692307692308e-05, 'epoch': 1.74}\n",
      "{'loss': 0.03, 'grad_norm': 1.7011404037475586, 'learning_rate': 3.2474358974358974e-05, 'epoch': 1.75}\n",
      "{'loss': 0.0098, 'grad_norm': 0.07838563621044159, 'learning_rate': 3.2371794871794876e-05, 'epoch': 1.76}\n",
      "{'loss': 0.0169, 'grad_norm': 3.254946708679199, 'learning_rate': 3.226923076923077e-05, 'epoch': 1.77}\n",
      "{'loss': 0.0279, 'grad_norm': 1.1315759420394897, 'learning_rate': 3.2166666666666665e-05, 'epoch': 1.78}\n",
      "{'loss': 0.0498, 'grad_norm': 4.3124542236328125, 'learning_rate': 3.2064102564102566e-05, 'epoch': 1.79}\n",
      "{'loss': 0.0416, 'grad_norm': 2.31593656539917, 'learning_rate': 3.196153846153847e-05, 'epoch': 1.8}\n",
      "{'loss': 0.0118, 'grad_norm': 0.7108423113822937, 'learning_rate': 3.1858974358974355e-05, 'epoch': 1.81}\n",
      "{'loss': 0.0198, 'grad_norm': 0.10176292806863785, 'learning_rate': 3.175641025641026e-05, 'epoch': 1.82}\n",
      "{'loss': 0.0167, 'grad_norm': 0.04991866275668144, 'learning_rate': 3.165384615384616e-05, 'epoch': 1.84}\n",
      "{'loss': 0.0212, 'grad_norm': 0.2648990750312805, 'learning_rate': 3.155128205128205e-05, 'epoch': 1.85}\n",
      "{'loss': 0.0116, 'grad_norm': 3.6362764835357666, 'learning_rate': 3.144871794871795e-05, 'epoch': 1.86}\n",
      "{'loss': 0.03, 'grad_norm': 1.1185271739959717, 'learning_rate': 3.134615384615385e-05, 'epoch': 1.87}\n",
      "{'loss': 0.0441, 'grad_norm': 3.3003792762756348, 'learning_rate': 3.124358974358974e-05, 'epoch': 1.88}\n",
      "{'loss': 0.0127, 'grad_norm': 0.0859253853559494, 'learning_rate': 3.1141025641025645e-05, 'epoch': 1.89}\n",
      "{'loss': 0.0469, 'grad_norm': 2.531585931777954, 'learning_rate': 3.103846153846154e-05, 'epoch': 1.9}\n",
      "{'loss': 0.034, 'grad_norm': 2.037476062774658, 'learning_rate': 3.093589743589744e-05, 'epoch': 1.91}\n",
      "{'loss': 0.0136, 'grad_norm': 0.06382564455270767, 'learning_rate': 3.0833333333333335e-05, 'epoch': 1.92}\n",
      "{'loss': 0.011, 'grad_norm': 0.20178435742855072, 'learning_rate': 3.073076923076923e-05, 'epoch': 1.93}\n",
      "{'loss': 0.048, 'grad_norm': 0.032264675945043564, 'learning_rate': 3.062820512820513e-05, 'epoch': 1.94}\n",
      "{'loss': 0.0426, 'grad_norm': 1.80403470993042, 'learning_rate': 3.0525641025641026e-05, 'epoch': 1.95}\n",
      "{'loss': 0.0128, 'grad_norm': 1.8316622972488403, 'learning_rate': 3.0423076923076927e-05, 'epoch': 1.96}\n",
      "{'loss': 0.033, 'grad_norm': 0.8854188919067383, 'learning_rate': 3.0320512820512818e-05, 'epoch': 1.97}\n",
      "{'loss': 0.0358, 'grad_norm': 4.389435291290283, 'learning_rate': 3.021794871794872e-05, 'epoch': 1.98}\n",
      "{'loss': 0.0207, 'grad_norm': 0.46562105417251587, 'learning_rate': 3.0115384615384618e-05, 'epoch': 1.99}\n",
      "{'loss': 0.0302, 'grad_norm': 3.406285524368286, 'learning_rate': 3.0012820512820516e-05, 'epoch': 2.0}\n"
     ]
    },
    {
     "data": {
      "application/vnd.jupyter.widget-view+json": {
       "model_id": "da40bd1b8a1b4d56bf7135df41176196",
       "version_major": 2,
       "version_minor": 0
      },
      "text/plain": [
       "  0%|          | 0/128 [00:00<?, ?it/s]"
      ]
     },
     "metadata": {},
     "output_type": "display_data"
    },
    {
     "name": "stdout",
     "output_type": "stream",
     "text": [
      "{'eval_loss': 0.12702469527721405, 'eval_accuracy': 0.961764705882353, 'eval_f1': 0.9630331753554502, 'eval_precision': 0.9321100917431193, 'eval_recall': 0.996078431372549, 'eval_runtime': 27.8389, 'eval_samples_per_second': 36.639, 'eval_steps_per_second': 4.598, 'epoch': 2.0}\n",
      "{'loss': 0.0151, 'grad_norm': 4.799314975738525, 'learning_rate': 2.991025641025641e-05, 'epoch': 2.01}\n",
      "{'loss': 0.0065, 'grad_norm': 1.7374595403671265, 'learning_rate': 2.9807692307692308e-05, 'epoch': 2.02}\n",
      "{'loss': 0.0145, 'grad_norm': 0.22422803938388824, 'learning_rate': 2.9705128205128206e-05, 'epoch': 2.03}\n",
      "{'loss': 0.0176, 'grad_norm': 1.4680359363555908, 'learning_rate': 2.9602564102564108e-05, 'epoch': 2.04}\n",
      "{'loss': 0.0122, 'grad_norm': 0.010903277434408665, 'learning_rate': 2.95e-05, 'epoch': 2.05}\n",
      "{'loss': 0.0292, 'grad_norm': 0.23019663989543915, 'learning_rate': 2.93974358974359e-05, 'epoch': 2.06}\n",
      "{'loss': 0.0289, 'grad_norm': 3.4860281944274902, 'learning_rate': 2.9294871794871798e-05, 'epoch': 2.07}\n",
      "{'loss': 0.0152, 'grad_norm': 6.89913272857666, 'learning_rate': 2.919230769230769e-05, 'epoch': 2.08}\n",
      "{'loss': 0.0156, 'grad_norm': 8.942882537841797, 'learning_rate': 2.908974358974359e-05, 'epoch': 2.09}\n",
      "{'loss': 0.0281, 'grad_norm': 0.5469399094581604, 'learning_rate': 2.898717948717949e-05, 'epoch': 2.1}\n",
      "{'loss': 0.0101, 'grad_norm': 0.6720521450042725, 'learning_rate': 2.8884615384615387e-05, 'epoch': 2.11}\n",
      "{'loss': 0.0142, 'grad_norm': 0.04527638480067253, 'learning_rate': 2.878205128205128e-05, 'epoch': 2.12}\n",
      "{'loss': 0.0236, 'grad_norm': 3.369776487350464, 'learning_rate': 2.867948717948718e-05, 'epoch': 2.13}\n",
      "{'loss': 0.0249, 'grad_norm': 0.020084090530872345, 'learning_rate': 2.8576923076923077e-05, 'epoch': 2.14}\n",
      "{'loss': 0.0251, 'grad_norm': 0.14540241658687592, 'learning_rate': 2.847435897435898e-05, 'epoch': 2.15}\n",
      "{'loss': 0.0155, 'grad_norm': 1.6974828243255615, 'learning_rate': 2.837179487179487e-05, 'epoch': 2.16}\n",
      "{'loss': 0.0203, 'grad_norm': 0.353219598531723, 'learning_rate': 2.826923076923077e-05, 'epoch': 2.17}\n",
      "{'loss': 0.019, 'grad_norm': 0.10497952252626419, 'learning_rate': 2.816666666666667e-05, 'epoch': 2.18}\n",
      "{'loss': 0.0068, 'grad_norm': 1.1607400178909302, 'learning_rate': 2.8064102564102567e-05, 'epoch': 2.19}\n",
      "{'loss': 0.0429, 'grad_norm': 2.400686502456665, 'learning_rate': 2.7961538461538462e-05, 'epoch': 2.2}\n",
      "{'loss': 0.0651, 'grad_norm': 0.03044271655380726, 'learning_rate': 2.785897435897436e-05, 'epoch': 2.21}\n",
      "{'loss': 0.0242, 'grad_norm': 0.26957008242607117, 'learning_rate': 2.7756410256410258e-05, 'epoch': 2.22}\n",
      "{'loss': 0.0318, 'grad_norm': 8.926578521728516, 'learning_rate': 2.7653846153846152e-05, 'epoch': 2.23}\n",
      "{'loss': 0.0095, 'grad_norm': 1.4882615804672241, 'learning_rate': 2.755128205128205e-05, 'epoch': 2.25}\n",
      "{'loss': 0.0324, 'grad_norm': 6.885841369628906, 'learning_rate': 2.744871794871795e-05, 'epoch': 2.26}\n",
      "{'loss': 0.0374, 'grad_norm': 5.8484063148498535, 'learning_rate': 2.734615384615385e-05, 'epoch': 2.27}\n",
      "{'loss': 0.0033, 'grad_norm': 0.1773541420698166, 'learning_rate': 2.724358974358974e-05, 'epoch': 2.28}\n",
      "{'loss': 0.0218, 'grad_norm': 1.7504738569259644, 'learning_rate': 2.7141025641025642e-05, 'epoch': 2.29}\n",
      "{'loss': 0.0113, 'grad_norm': 0.6527469158172607, 'learning_rate': 2.703846153846154e-05, 'epoch': 2.3}\n",
      "{'loss': 0.015, 'grad_norm': 0.009994846768677235, 'learning_rate': 2.6935897435897438e-05, 'epoch': 2.31}\n",
      "{'loss': 0.0291, 'grad_norm': 4.981446743011475, 'learning_rate': 2.6833333333333333e-05, 'epoch': 2.32}\n",
      "{'loss': 0.0114, 'grad_norm': 2.2218008041381836, 'learning_rate': 2.673076923076923e-05, 'epoch': 2.33}\n",
      "{'loss': 0.015, 'grad_norm': 0.006568180397152901, 'learning_rate': 2.662820512820513e-05, 'epoch': 2.34}\n",
      "{'loss': 0.0359, 'grad_norm': 0.4058033525943756, 'learning_rate': 2.652564102564103e-05, 'epoch': 2.35}\n",
      "{'loss': 0.0256, 'grad_norm': 1.4732202291488647, 'learning_rate': 2.642307692307692e-05, 'epoch': 2.36}\n",
      "{'loss': 0.0171, 'grad_norm': 2.9568939208984375, 'learning_rate': 2.6320512820512823e-05, 'epoch': 2.37}\n",
      "{'loss': 0.0112, 'grad_norm': 3.512984275817871, 'learning_rate': 2.621794871794872e-05, 'epoch': 2.38}\n",
      "{'loss': 0.0166, 'grad_norm': 14.074766159057617, 'learning_rate': 2.611538461538462e-05, 'epoch': 2.39}\n",
      "{'loss': 0.0132, 'grad_norm': 0.06064658239483833, 'learning_rate': 2.6012820512820513e-05, 'epoch': 2.4}\n",
      "{'loss': 0.0368, 'grad_norm': 9.84898567199707, 'learning_rate': 2.591025641025641e-05, 'epoch': 2.41}\n",
      "{'loss': 0.0244, 'grad_norm': 1.629220962524414, 'learning_rate': 2.580769230769231e-05, 'epoch': 2.42}\n",
      "{'loss': 0.0422, 'grad_norm': 11.158690452575684, 'learning_rate': 2.5705128205128204e-05, 'epoch': 2.43}\n",
      "{'loss': 0.0434, 'grad_norm': 1.595702052116394, 'learning_rate': 2.5602564102564102e-05, 'epoch': 2.44}\n",
      "{'loss': 0.0505, 'grad_norm': 0.45416826009750366, 'learning_rate': 2.5500000000000003e-05, 'epoch': 2.45}\n",
      "{'loss': 0.0452, 'grad_norm': 5.3677287101745605, 'learning_rate': 2.53974358974359e-05, 'epoch': 2.46}\n",
      "{'loss': 0.024, 'grad_norm': 8.394566535949707, 'learning_rate': 2.5294871794871792e-05, 'epoch': 2.47}\n",
      "{'loss': 0.0122, 'grad_norm': 2.926650047302246, 'learning_rate': 2.5192307692307694e-05, 'epoch': 2.48}\n",
      "{'loss': 0.0226, 'grad_norm': 2.2242109775543213, 'learning_rate': 2.5089743589743592e-05, 'epoch': 2.49}\n",
      "{'loss': 0.0236, 'grad_norm': 0.5017193555831909, 'learning_rate': 2.4987179487179486e-05, 'epoch': 2.5}\n",
      "{'loss': 0.0216, 'grad_norm': 1.6803593635559082, 'learning_rate': 2.4884615384615388e-05, 'epoch': 2.51}\n",
      "{'loss': 0.0428, 'grad_norm': 0.2598497271537781, 'learning_rate': 2.4782051282051282e-05, 'epoch': 2.52}\n",
      "{'loss': 0.0134, 'grad_norm': 0.0707133412361145, 'learning_rate': 2.467948717948718e-05, 'epoch': 2.53}\n",
      "{'loss': 0.0152, 'grad_norm': 0.9288128614425659, 'learning_rate': 2.4576923076923078e-05, 'epoch': 2.54}\n",
      "{'loss': 0.003, 'grad_norm': 0.18306848406791687, 'learning_rate': 2.4474358974358976e-05, 'epoch': 2.55}\n",
      "{'loss': 0.016, 'grad_norm': 4.752191543579102, 'learning_rate': 2.4371794871794874e-05, 'epoch': 2.56}\n",
      "{'loss': 0.0258, 'grad_norm': 0.9808013439178467, 'learning_rate': 2.426923076923077e-05, 'epoch': 2.57}\n",
      "{'loss': 0.0082, 'grad_norm': 0.07565601170063019, 'learning_rate': 2.4166666666666667e-05, 'epoch': 2.58}\n",
      "{'loss': 0.0271, 'grad_norm': 1.1480804681777954, 'learning_rate': 2.4064102564102565e-05, 'epoch': 2.59}\n",
      "{'loss': 0.0644, 'grad_norm': 5.0421600341796875, 'learning_rate': 2.3961538461538463e-05, 'epoch': 2.6}\n",
      "{'loss': 0.032, 'grad_norm': 2.7584545612335205, 'learning_rate': 2.385897435897436e-05, 'epoch': 2.61}\n",
      "{'loss': 0.0078, 'grad_norm': 1.063865065574646, 'learning_rate': 2.375641025641026e-05, 'epoch': 2.62}\n",
      "{'loss': 0.0278, 'grad_norm': 0.1170554906129837, 'learning_rate': 2.3653846153846153e-05, 'epoch': 2.63}\n",
      "{'loss': 0.0396, 'grad_norm': 9.845584869384766, 'learning_rate': 2.3551282051282055e-05, 'epoch': 2.64}\n",
      "{'loss': 0.0209, 'grad_norm': 2.7473652362823486, 'learning_rate': 2.344871794871795e-05, 'epoch': 2.66}\n",
      "{'loss': 0.0408, 'grad_norm': 2.3119609355926514, 'learning_rate': 2.3346153846153847e-05, 'epoch': 2.67}\n",
      "{'loss': 0.0049, 'grad_norm': 0.12624458968639374, 'learning_rate': 2.3243589743589745e-05, 'epoch': 2.68}\n",
      "{'loss': 0.029, 'grad_norm': 0.4146610200405121, 'learning_rate': 2.3141025641025643e-05, 'epoch': 2.69}\n",
      "{'loss': 0.0495, 'grad_norm': 0.07259777188301086, 'learning_rate': 2.3038461538461538e-05, 'epoch': 2.7}\n",
      "{'loss': 0.0253, 'grad_norm': 3.072540521621704, 'learning_rate': 2.293589743589744e-05, 'epoch': 2.71}\n",
      "{'loss': 0.0098, 'grad_norm': 1.2378132343292236, 'learning_rate': 2.2833333333333334e-05, 'epoch': 2.72}\n",
      "{'loss': 0.0324, 'grad_norm': 6.064487934112549, 'learning_rate': 2.2730769230769232e-05, 'epoch': 2.73}\n",
      "{'loss': 0.0348, 'grad_norm': 7.315589427947998, 'learning_rate': 2.262820512820513e-05, 'epoch': 2.74}\n",
      "{'loss': 0.027, 'grad_norm': 6.607132434844971, 'learning_rate': 2.2525641025641024e-05, 'epoch': 2.75}\n",
      "{'loss': 0.0303, 'grad_norm': 0.10993833094835281, 'learning_rate': 2.2423076923076926e-05, 'epoch': 2.76}\n",
      "{'loss': 0.0331, 'grad_norm': 4.6748504638671875, 'learning_rate': 2.232051282051282e-05, 'epoch': 2.77}\n",
      "{'loss': 0.0179, 'grad_norm': 0.3100106120109558, 'learning_rate': 2.221794871794872e-05, 'epoch': 2.78}\n",
      "{'loss': 0.0225, 'grad_norm': 0.07056806981563568, 'learning_rate': 2.2115384615384616e-05, 'epoch': 2.79}\n",
      "{'loss': 0.0222, 'grad_norm': 0.07953941076993942, 'learning_rate': 2.2012820512820514e-05, 'epoch': 2.8}\n",
      "{'loss': 0.0137, 'grad_norm': 0.01726008765399456, 'learning_rate': 2.1910256410256412e-05, 'epoch': 2.81}\n",
      "{'loss': 0.0098, 'grad_norm': 2.7964415550231934, 'learning_rate': 2.180769230769231e-05, 'epoch': 2.82}\n",
      "{'loss': 0.0099, 'grad_norm': 5.133336544036865, 'learning_rate': 2.1705128205128205e-05, 'epoch': 2.83}\n",
      "{'loss': 0.0105, 'grad_norm': 0.014020759612321854, 'learning_rate': 2.1602564102564106e-05, 'epoch': 2.84}\n",
      "{'loss': 0.0145, 'grad_norm': 0.1613866686820984, 'learning_rate': 2.15e-05, 'epoch': 2.85}\n",
      "{'loss': 0.0193, 'grad_norm': 0.35663729906082153, 'learning_rate': 2.13974358974359e-05, 'epoch': 2.86}\n",
      "{'loss': 0.0159, 'grad_norm': 12.864662170410156, 'learning_rate': 2.1294871794871797e-05, 'epoch': 2.87}\n",
      "{'loss': 0.0175, 'grad_norm': 2.527824640274048, 'learning_rate': 2.1192307692307695e-05, 'epoch': 2.88}\n",
      "{'loss': 0.0118, 'grad_norm': 0.08954507112503052, 'learning_rate': 2.108974358974359e-05, 'epoch': 2.89}\n",
      "{'loss': 0.0151, 'grad_norm': 0.02980700135231018, 'learning_rate': 2.0987179487179487e-05, 'epoch': 2.9}\n",
      "{'loss': 0.0367, 'grad_norm': 10.22809886932373, 'learning_rate': 2.0884615384615385e-05, 'epoch': 2.91}\n",
      "{'loss': 0.0155, 'grad_norm': 0.07610682398080826, 'learning_rate': 2.0782051282051283e-05, 'epoch': 2.92}\n",
      "{'loss': 0.0566, 'grad_norm': 0.6941602826118469, 'learning_rate': 2.0692307692307693e-05, 'epoch': 2.93}\n",
      "{'loss': 0.0216, 'grad_norm': 7.332000255584717, 'learning_rate': 2.058974358974359e-05, 'epoch': 2.94}\n",
      "{'loss': 0.0088, 'grad_norm': 0.5279805660247803, 'learning_rate': 2.048717948717949e-05, 'epoch': 2.95}\n",
      "{'loss': 0.0147, 'grad_norm': 4.077409267425537, 'learning_rate': 2.0384615384615387e-05, 'epoch': 2.96}\n",
      "{'loss': 0.0214, 'grad_norm': 1.1572047472000122, 'learning_rate': 2.0282051282051285e-05, 'epoch': 2.97}\n",
      "{'loss': 0.0169, 'grad_norm': 2.0889618396759033, 'learning_rate': 2.017948717948718e-05, 'epoch': 2.98}\n",
      "{'loss': 0.0433, 'grad_norm': 5.633190155029297, 'learning_rate': 2.0076923076923077e-05, 'epoch': 2.99}\n"
     ]
    },
    {
     "data": {
      "application/vnd.jupyter.widget-view+json": {
       "model_id": "7dbf5527c99f41b7851308346c643516",
       "version_major": 2,
       "version_minor": 0
      },
      "text/plain": [
       "  0%|          | 0/128 [00:00<?, ?it/s]"
      ]
     },
     "metadata": {},
     "output_type": "display_data"
    },
    {
     "name": "stdout",
     "output_type": "stream",
     "text": [
      "{'eval_loss': 0.04725463688373566, 'eval_accuracy': 0.9833333333333333, 'eval_f1': 0.9835430784123911, 'eval_precision': 0.97131931166348, 'eval_recall': 0.996078431372549, 'eval_runtime': 27.8102, 'eval_samples_per_second': 36.677, 'eval_steps_per_second': 4.603, 'epoch': 3.0}\n",
      "{'loss': 0.0093, 'grad_norm': 0.0653543621301651, 'learning_rate': 1.9974358974358975e-05, 'epoch': 3.0}\n",
      "{'loss': 0.0104, 'grad_norm': 0.09557028114795685, 'learning_rate': 1.987179487179487e-05, 'epoch': 3.01}\n",
      "{'loss': 0.0039, 'grad_norm': 2.573183298110962, 'learning_rate': 1.976923076923077e-05, 'epoch': 3.02}\n",
      "{'loss': 0.0188, 'grad_norm': 6.7460455894470215, 'learning_rate': 1.9666666666666666e-05, 'epoch': 3.03}\n",
      "{'loss': 0.0067, 'grad_norm': 5.2027106285095215, 'learning_rate': 1.9564102564102564e-05, 'epoch': 3.04}\n",
      "{'loss': 0.0092, 'grad_norm': 1.425170660018921, 'learning_rate': 1.9461538461538462e-05, 'epoch': 3.05}\n",
      "{'loss': 0.0065, 'grad_norm': 0.03341037034988403, 'learning_rate': 1.935897435897436e-05, 'epoch': 3.07}\n",
      "{'loss': 0.0179, 'grad_norm': 10.342513084411621, 'learning_rate': 1.9256410256410258e-05, 'epoch': 3.08}\n",
      "{'loss': 0.0091, 'grad_norm': 0.009738787077367306, 'learning_rate': 1.9153846153846156e-05, 'epoch': 3.09}\n",
      "{'loss': 0.0298, 'grad_norm': 0.19680427014827728, 'learning_rate': 1.905128205128205e-05, 'epoch': 3.1}\n",
      "{'loss': 0.0091, 'grad_norm': 5.977553844451904, 'learning_rate': 1.8948717948717952e-05, 'epoch': 3.11}\n",
      "{'loss': 0.035, 'grad_norm': 0.6500277519226074, 'learning_rate': 1.8846153846153846e-05, 'epoch': 3.12}\n",
      "{'loss': 0.0048, 'grad_norm': 0.9463881254196167, 'learning_rate': 1.8743589743589744e-05, 'epoch': 3.13}\n",
      "{'loss': 0.0025, 'grad_norm': 2.1568729877471924, 'learning_rate': 1.8641025641025642e-05, 'epoch': 3.14}\n",
      "{'loss': 0.0181, 'grad_norm': 0.19352659583091736, 'learning_rate': 1.853846153846154e-05, 'epoch': 3.15}\n",
      "{'loss': 0.0063, 'grad_norm': 0.0366414412856102, 'learning_rate': 1.8435897435897438e-05, 'epoch': 3.16}\n",
      "{'loss': 0.0096, 'grad_norm': 0.0740227997303009, 'learning_rate': 1.8333333333333333e-05, 'epoch': 3.17}\n",
      "{'loss': 0.0016, 'grad_norm': 0.04615798220038414, 'learning_rate': 1.823076923076923e-05, 'epoch': 3.18}\n",
      "{'loss': 0.0197, 'grad_norm': 3.7597925662994385, 'learning_rate': 1.812820512820513e-05, 'epoch': 3.19}\n",
      "{'loss': 0.0278, 'grad_norm': 0.28265029191970825, 'learning_rate': 1.8025641025641027e-05, 'epoch': 3.2}\n",
      "{'loss': 0.0379, 'grad_norm': 2.8483998775482178, 'learning_rate': 1.792307692307692e-05, 'epoch': 3.21}\n",
      "{'loss': 0.014, 'grad_norm': 2.19978928565979, 'learning_rate': 1.7820512820512823e-05, 'epoch': 3.22}\n",
      "{'loss': 0.008, 'grad_norm': 0.010528439655900002, 'learning_rate': 1.7717948717948717e-05, 'epoch': 3.23}\n",
      "{'loss': 0.0174, 'grad_norm': 1.9845125675201416, 'learning_rate': 1.7615384615384615e-05, 'epoch': 3.24}\n",
      "{'loss': 0.0079, 'grad_norm': 1.0250566005706787, 'learning_rate': 1.7512820512820513e-05, 'epoch': 3.25}\n",
      "{'loss': 0.0022, 'grad_norm': 0.050772931426763535, 'learning_rate': 1.741025641025641e-05, 'epoch': 3.26}\n",
      "{'loss': 0.0265, 'grad_norm': 16.56495475769043, 'learning_rate': 1.730769230769231e-05, 'epoch': 3.27}\n",
      "{'loss': 0.0092, 'grad_norm': 0.27553868293762207, 'learning_rate': 1.7205128205128207e-05, 'epoch': 3.28}\n",
      "{'loss': 0.0386, 'grad_norm': 4.7468743324279785, 'learning_rate': 1.7102564102564102e-05, 'epoch': 3.29}\n",
      "{'loss': 0.0145, 'grad_norm': 0.08533838391304016, 'learning_rate': 1.7000000000000003e-05, 'epoch': 3.3}\n",
      "{'loss': 0.0196, 'grad_norm': 4.966404438018799, 'learning_rate': 1.6897435897435898e-05, 'epoch': 3.31}\n",
      "{'loss': 0.0058, 'grad_norm': 0.25773340463638306, 'learning_rate': 1.6794871794871796e-05, 'epoch': 3.32}\n",
      "{'loss': 0.0317, 'grad_norm': 0.43447601795196533, 'learning_rate': 1.6692307692307694e-05, 'epoch': 3.33}\n",
      "{'loss': 0.0054, 'grad_norm': 0.0423906147480011, 'learning_rate': 1.658974358974359e-05, 'epoch': 3.34}\n",
      "{'loss': 0.0065, 'grad_norm': 0.13051562011241913, 'learning_rate': 1.648717948717949e-05, 'epoch': 3.35}\n",
      "{'loss': 0.0114, 'grad_norm': 0.13948258757591248, 'learning_rate': 1.6384615384615384e-05, 'epoch': 3.36}\n",
      "{'loss': 0.0059, 'grad_norm': 0.20889218151569366, 'learning_rate': 1.6282051282051282e-05, 'epoch': 3.37}\n",
      "{'loss': 0.0029, 'grad_norm': 0.003491948125883937, 'learning_rate': 1.617948717948718e-05, 'epoch': 3.38}\n",
      "{'loss': 0.0073, 'grad_norm': 1.411637544631958, 'learning_rate': 1.607692307692308e-05, 'epoch': 3.39}\n",
      "{'loss': 0.0137, 'grad_norm': 0.41792991757392883, 'learning_rate': 1.5974358974358973e-05, 'epoch': 3.4}\n",
      "{'loss': 0.0092, 'grad_norm': 1.6036877632141113, 'learning_rate': 1.5871794871794874e-05, 'epoch': 3.41}\n",
      "{'loss': 0.0036, 'grad_norm': 4.316887378692627, 'learning_rate': 1.576923076923077e-05, 'epoch': 3.42}\n",
      "{'loss': 0.0128, 'grad_norm': 0.010323397815227509, 'learning_rate': 1.5666666666666667e-05, 'epoch': 3.43}\n",
      "{'loss': 0.0177, 'grad_norm': 0.008092151954770088, 'learning_rate': 1.5564102564102565e-05, 'epoch': 3.44}\n",
      "{'loss': 0.0025, 'grad_norm': 0.20345719158649445, 'learning_rate': 1.5461538461538463e-05, 'epoch': 3.45}\n",
      "{'loss': 0.0328, 'grad_norm': 0.5651266574859619, 'learning_rate': 1.535897435897436e-05, 'epoch': 3.47}\n",
      "{'loss': 0.0075, 'grad_norm': 1.7384588718414307, 'learning_rate': 1.5256410256410259e-05, 'epoch': 3.48}\n",
      "{'loss': 0.0144, 'grad_norm': 0.08908991515636444, 'learning_rate': 1.5153846153846155e-05, 'epoch': 3.49}\n",
      "{'loss': 0.0164, 'grad_norm': 0.4801214635372162, 'learning_rate': 1.5051282051282051e-05, 'epoch': 3.5}\n",
      "{'loss': 0.0214, 'grad_norm': 3.1863372325897217, 'learning_rate': 1.494871794871795e-05, 'epoch': 3.51}\n",
      "{'loss': 0.033, 'grad_norm': 7.787359237670898, 'learning_rate': 1.4846153846153846e-05, 'epoch': 3.52}\n",
      "{'loss': 0.016, 'grad_norm': 0.049633290618658066, 'learning_rate': 1.4743589743589745e-05, 'epoch': 3.53}\n",
      "{'loss': 0.0172, 'grad_norm': 0.11447491496801376, 'learning_rate': 1.4641025641025642e-05, 'epoch': 3.54}\n",
      "{'loss': 0.0251, 'grad_norm': 3.924039602279663, 'learning_rate': 1.453846153846154e-05, 'epoch': 3.55}\n",
      "{'loss': 0.0247, 'grad_norm': 8.393988609313965, 'learning_rate': 1.4435897435897436e-05, 'epoch': 3.56}\n",
      "{'loss': 0.0038, 'grad_norm': 0.02362440712749958, 'learning_rate': 1.4333333333333334e-05, 'epoch': 3.57}\n",
      "{'loss': 0.003, 'grad_norm': 0.09743229299783707, 'learning_rate': 1.423076923076923e-05, 'epoch': 3.58}\n",
      "{'loss': 0.0193, 'grad_norm': 3.5217583179473877, 'learning_rate': 1.412820512820513e-05, 'epoch': 3.59}\n",
      "{'loss': 0.0216, 'grad_norm': 3.2292120456695557, 'learning_rate': 1.4025641025641026e-05, 'epoch': 3.6}\n",
      "{'loss': 0.0067, 'grad_norm': 1.558383822441101, 'learning_rate': 1.3923076923076924e-05, 'epoch': 3.61}\n",
      "{'loss': 0.0014, 'grad_norm': 0.13270102441310883, 'learning_rate': 1.382051282051282e-05, 'epoch': 3.62}\n",
      "{'loss': 0.0262, 'grad_norm': 3.028107166290283, 'learning_rate': 1.371794871794872e-05, 'epoch': 3.63}\n",
      "{'loss': 0.0124, 'grad_norm': 0.021369265392422676, 'learning_rate': 1.3615384615384616e-05, 'epoch': 3.64}\n",
      "{'loss': 0.0258, 'grad_norm': 0.04059480503201485, 'learning_rate': 1.3512820512820513e-05, 'epoch': 3.65}\n",
      "{'loss': 0.0059, 'grad_norm': 0.010682005435228348, 'learning_rate': 1.341025641025641e-05, 'epoch': 3.66}\n",
      "{'loss': 0.0131, 'grad_norm': 7.8162431716918945, 'learning_rate': 1.3307692307692307e-05, 'epoch': 3.67}\n",
      "{'loss': 0.0178, 'grad_norm': 0.5340853333473206, 'learning_rate': 1.3205128205128207e-05, 'epoch': 3.68}\n",
      "{'loss': 0.008, 'grad_norm': 0.011776026338338852, 'learning_rate': 1.3102564102564103e-05, 'epoch': 3.69}\n",
      "{'loss': 0.02, 'grad_norm': 0.03838558867573738, 'learning_rate': 1.3000000000000001e-05, 'epoch': 3.7}\n",
      "{'loss': 0.0162, 'grad_norm': 0.007003611419349909, 'learning_rate': 1.2897435897435897e-05, 'epoch': 3.71}\n",
      "{'loss': 0.0233, 'grad_norm': 2.9335427284240723, 'learning_rate': 1.2794871794871797e-05, 'epoch': 3.72}\n",
      "{'loss': 0.0187, 'grad_norm': 5.5271992683410645, 'learning_rate': 1.2692307692307691e-05, 'epoch': 3.73}\n",
      "{'loss': 0.0186, 'grad_norm': 0.24843807518482208, 'learning_rate': 1.2589743589743591e-05, 'epoch': 3.74}\n",
      "{'loss': 0.0252, 'grad_norm': 2.441647529602051, 'learning_rate': 1.2487179487179487e-05, 'epoch': 3.75}\n",
      "{'loss': 0.0015, 'grad_norm': 0.4844026565551758, 'learning_rate': 1.2384615384615385e-05, 'epoch': 3.76}\n",
      "{'loss': 0.0164, 'grad_norm': 0.043955910950899124, 'learning_rate': 1.2282051282051282e-05, 'epoch': 3.77}\n",
      "{'loss': 0.0014, 'grad_norm': 0.027375534176826477, 'learning_rate': 1.217948717948718e-05, 'epoch': 3.78}\n",
      "{'loss': 0.0246, 'grad_norm': 0.019741009920835495, 'learning_rate': 1.2076923076923078e-05, 'epoch': 3.79}\n",
      "{'loss': 0.0114, 'grad_norm': 0.03725244477391243, 'learning_rate': 1.1974358974358976e-05, 'epoch': 3.8}\n",
      "{'loss': 0.0176, 'grad_norm': 1.2493202686309814, 'learning_rate': 1.1871794871794872e-05, 'epoch': 3.81}\n",
      "{'loss': 0.0216, 'grad_norm': 5.665550231933594, 'learning_rate': 1.176923076923077e-05, 'epoch': 3.82}\n",
      "{'loss': 0.0182, 'grad_norm': 6.929403305053711, 'learning_rate': 1.1666666666666668e-05, 'epoch': 3.83}\n",
      "{'loss': 0.0168, 'grad_norm': 1.6858879327774048, 'learning_rate': 1.1564102564102564e-05, 'epoch': 3.84}\n",
      "{'loss': 0.011, 'grad_norm': 0.5676295757293701, 'learning_rate': 1.1461538461538462e-05, 'epoch': 3.85}\n",
      "{'loss': 0.007, 'grad_norm': 0.08249795436859131, 'learning_rate': 1.135897435897436e-05, 'epoch': 3.86}\n",
      "{'loss': 0.009, 'grad_norm': 2.14400577545166, 'learning_rate': 1.1256410256410258e-05, 'epoch': 3.88}\n",
      "{'loss': 0.0027, 'grad_norm': 0.9263993501663208, 'learning_rate': 1.1153846153846154e-05, 'epoch': 3.89}\n",
      "{'loss': 0.0028, 'grad_norm': 0.0040704794228076935, 'learning_rate': 1.105128205128205e-05, 'epoch': 3.9}\n",
      "{'loss': 0.0111, 'grad_norm': 0.2114706039428711, 'learning_rate': 1.0948717948717949e-05, 'epoch': 3.91}\n",
      "{'loss': 0.0202, 'grad_norm': 3.6816887855529785, 'learning_rate': 1.0846153846153847e-05, 'epoch': 3.92}\n",
      "{'loss': 0.0255, 'grad_norm': 0.09955714643001556, 'learning_rate': 1.0743589743589743e-05, 'epoch': 3.93}\n",
      "{'loss': 0.0217, 'grad_norm': 0.055972401052713394, 'learning_rate': 1.0641025641025641e-05, 'epoch': 3.94}\n",
      "{'loss': 0.0067, 'grad_norm': 0.02532893791794777, 'learning_rate': 1.0538461538461539e-05, 'epoch': 3.95}\n",
      "{'loss': 0.0144, 'grad_norm': 0.020896704867482185, 'learning_rate': 1.0435897435897437e-05, 'epoch': 3.96}\n",
      "{'loss': 0.011, 'grad_norm': 0.03363779932260513, 'learning_rate': 1.0333333333333333e-05, 'epoch': 3.97}\n",
      "{'loss': 0.0139, 'grad_norm': 0.120089091360569, 'learning_rate': 1.0230769230769231e-05, 'epoch': 3.98}\n",
      "{'loss': 0.0141, 'grad_norm': 0.024320615455508232, 'learning_rate': 1.012820512820513e-05, 'epoch': 3.99}\n",
      "{'loss': 0.0083, 'grad_norm': 0.06260651350021362, 'learning_rate': 1.0025641025641025e-05, 'epoch': 4.0}\n"
     ]
    },
    {
     "data": {
      "application/vnd.jupyter.widget-view+json": {
       "model_id": "019bc9f1558d4c3788071b19ba0702a2",
       "version_major": 2,
       "version_minor": 0
      },
      "text/plain": [
       "  0%|          | 0/128 [00:00<?, ?it/s]"
      ]
     },
     "metadata": {},
     "output_type": "display_data"
    },
    {
     "name": "stdout",
     "output_type": "stream",
     "text": [
      "{'eval_loss': 0.06667043268680573, 'eval_accuracy': 0.9833333333333333, 'eval_f1': 0.9835748792270531, 'eval_precision': 0.9695238095238096, 'eval_recall': 0.9980392156862745, 'eval_runtime': 27.7842, 'eval_samples_per_second': 36.712, 'eval_steps_per_second': 4.607, 'epoch': 4.0}\n",
      "{'loss': 0.0061, 'grad_norm': 0.6552647352218628, 'learning_rate': 9.923076923076923e-06, 'epoch': 4.01}\n",
      "{'loss': 0.0203, 'grad_norm': 0.27809083461761475, 'learning_rate': 9.820512820512821e-06, 'epoch': 4.02}\n",
      "{'loss': 0.0083, 'grad_norm': 0.062367238104343414, 'learning_rate': 9.71794871794872e-06, 'epoch': 4.03}\n",
      "{'loss': 0.0059, 'grad_norm': 0.008710673078894615, 'learning_rate': 9.615384615384616e-06, 'epoch': 4.04}\n",
      "{'loss': 0.0037, 'grad_norm': 0.30105650424957275, 'learning_rate': 9.512820512820514e-06, 'epoch': 4.05}\n",
      "{'loss': 0.0155, 'grad_norm': 2.5642073154449463, 'learning_rate': 9.41025641025641e-06, 'epoch': 4.06}\n",
      "{'loss': 0.0076, 'grad_norm': 0.05147373676300049, 'learning_rate': 9.307692307692308e-06, 'epoch': 4.07}\n",
      "{'loss': 0.01, 'grad_norm': 0.07425481081008911, 'learning_rate': 9.205128205128204e-06, 'epoch': 4.08}\n",
      "{'loss': 0.0118, 'grad_norm': 0.2535210847854614, 'learning_rate': 9.102564102564102e-06, 'epoch': 4.09}\n",
      "{'loss': 0.0225, 'grad_norm': 0.0035238415002822876, 'learning_rate': 9e-06, 'epoch': 4.1}\n",
      "{'loss': 0.0063, 'grad_norm': 0.007867236621677876, 'learning_rate': 8.897435897435898e-06, 'epoch': 4.11}\n",
      "{'loss': 0.0014, 'grad_norm': 0.012201236560940742, 'learning_rate': 8.794871794871795e-06, 'epoch': 4.12}\n",
      "{'loss': 0.0134, 'grad_norm': 0.11239521950483322, 'learning_rate': 8.692307692307692e-06, 'epoch': 4.13}\n",
      "{'loss': 0.01, 'grad_norm': 0.1850350946187973, 'learning_rate': 8.58974358974359e-06, 'epoch': 4.14}\n",
      "{'loss': 0.0077, 'grad_norm': 6.037418365478516, 'learning_rate': 8.487179487179488e-06, 'epoch': 4.15}\n",
      "{'loss': 0.0074, 'grad_norm': 1.9539381265640259, 'learning_rate': 8.384615384615385e-06, 'epoch': 4.16}\n",
      "{'loss': 0.0124, 'grad_norm': 0.02046605385839939, 'learning_rate': 8.282051282051283e-06, 'epoch': 4.17}\n",
      "{'loss': 0.0148, 'grad_norm': 2.553402900695801, 'learning_rate': 8.17948717948718e-06, 'epoch': 4.18}\n",
      "{'loss': 0.0141, 'grad_norm': 0.008288546465337276, 'learning_rate': 8.076923076923077e-06, 'epoch': 4.19}\n",
      "{'loss': 0.0135, 'grad_norm': 0.057774923741817474, 'learning_rate': 7.974358974358975e-06, 'epoch': 4.2}\n",
      "{'loss': 0.0098, 'grad_norm': 0.02904893085360527, 'learning_rate': 7.871794871794873e-06, 'epoch': 4.21}\n",
      "{'loss': 0.0166, 'grad_norm': 0.002822583308443427, 'learning_rate': 7.76923076923077e-06, 'epoch': 4.22}\n",
      "{'loss': 0.0093, 'grad_norm': 0.01812240481376648, 'learning_rate': 7.666666666666667e-06, 'epoch': 4.23}\n",
      "{'loss': 0.0163, 'grad_norm': 0.25288936495780945, 'learning_rate': 7.564102564102564e-06, 'epoch': 4.24}\n",
      "{'loss': 0.0152, 'grad_norm': 4.507957935333252, 'learning_rate': 7.4615384615384615e-06, 'epoch': 4.25}\n",
      "{'loss': 0.0151, 'grad_norm': 17.413631439208984, 'learning_rate': 7.358974358974359e-06, 'epoch': 4.26}\n",
      "{'loss': 0.0165, 'grad_norm': 0.2825610935688019, 'learning_rate': 7.256410256410257e-06, 'epoch': 4.27}\n",
      "{'loss': 0.0122, 'grad_norm': 0.01464447844773531, 'learning_rate': 7.153846153846154e-06, 'epoch': 4.29}\n",
      "{'loss': 0.0014, 'grad_norm': 0.07607358694076538, 'learning_rate': 7.051282051282052e-06, 'epoch': 4.3}\n",
      "{'loss': 0.0015, 'grad_norm': 0.09623091667890549, 'learning_rate': 6.948717948717949e-06, 'epoch': 4.31}\n",
      "{'loss': 0.005, 'grad_norm': 0.35860496759414673, 'learning_rate': 6.846153846153847e-06, 'epoch': 4.32}\n",
      "{'loss': 0.0056, 'grad_norm': 1.4320567846298218, 'learning_rate': 6.743589743589744e-06, 'epoch': 4.33}\n",
      "{'loss': 0.0037, 'grad_norm': 0.05103856325149536, 'learning_rate': 6.641025641025642e-06, 'epoch': 4.34}\n",
      "{'loss': 0.0011, 'grad_norm': 0.01150477770715952, 'learning_rate': 6.538461538461539e-06, 'epoch': 4.35}\n",
      "{'loss': 0.0037, 'grad_norm': 0.10442043095827103, 'learning_rate': 6.435897435897436e-06, 'epoch': 4.36}\n",
      "{'loss': 0.0173, 'grad_norm': 0.043184906244277954, 'learning_rate': 6.333333333333334e-06, 'epoch': 4.37}\n",
      "{'loss': 0.0033, 'grad_norm': 0.004799651447683573, 'learning_rate': 6.230769230769231e-06, 'epoch': 4.38}\n",
      "{'loss': 0.019, 'grad_norm': 0.05635679513216019, 'learning_rate': 6.1282051282051285e-06, 'epoch': 4.39}\n",
      "{'loss': 0.0087, 'grad_norm': 0.004139297176152468, 'learning_rate': 6.025641025641026e-06, 'epoch': 4.4}\n",
      "{'loss': 0.0154, 'grad_norm': 0.18265078961849213, 'learning_rate': 5.923076923076924e-06, 'epoch': 4.41}\n",
      "{'loss': 0.0013, 'grad_norm': 0.0760028064250946, 'learning_rate': 5.820512820512821e-06, 'epoch': 4.42}\n",
      "{'loss': 0.0013, 'grad_norm': 0.004248178098350763, 'learning_rate': 5.717948717948718e-06, 'epoch': 4.43}\n",
      "{'loss': 0.0094, 'grad_norm': 0.004724533762782812, 'learning_rate': 5.615384615384615e-06, 'epoch': 4.44}\n",
      "{'loss': 0.0044, 'grad_norm': 0.02031775750219822, 'learning_rate': 5.512820512820513e-06, 'epoch': 4.45}\n",
      "{'loss': 0.0199, 'grad_norm': 0.050079263746738434, 'learning_rate': 5.41025641025641e-06, 'epoch': 4.46}\n",
      "{'loss': 0.0047, 'grad_norm': 0.0035266492050141096, 'learning_rate': 5.307692307692308e-06, 'epoch': 4.47}\n",
      "{'loss': 0.0167, 'grad_norm': 0.5881378054618835, 'learning_rate': 5.205128205128205e-06, 'epoch': 4.48}\n",
      "{'loss': 0.0086, 'grad_norm': 6.191895484924316, 'learning_rate': 5.102564102564103e-06, 'epoch': 4.49}\n",
      "{'loss': 0.0149, 'grad_norm': 9.732248306274414, 'learning_rate': 5e-06, 'epoch': 4.5}\n",
      "{'loss': 0.0029, 'grad_norm': 8.441072463989258, 'learning_rate': 4.8974358974358975e-06, 'epoch': 4.51}\n",
      "{'loss': 0.0073, 'grad_norm': 3.6538476943969727, 'learning_rate': 4.794871794871795e-06, 'epoch': 4.52}\n",
      "{'loss': 0.0351, 'grad_norm': 0.05155610293149948, 'learning_rate': 4.692307692307693e-06, 'epoch': 4.53}\n",
      "{'loss': 0.0315, 'grad_norm': 8.168584823608398, 'learning_rate': 4.58974358974359e-06, 'epoch': 4.54}\n",
      "{'loss': 0.0259, 'grad_norm': 5.071176528930664, 'learning_rate': 4.487179487179488e-06, 'epoch': 4.55}\n",
      "{'loss': 0.0079, 'grad_norm': 0.30769282579421997, 'learning_rate': 4.384615384615385e-06, 'epoch': 4.56}\n",
      "{'loss': 0.0106, 'grad_norm': 0.018873965367674828, 'learning_rate': 4.282051282051282e-06, 'epoch': 4.57}\n",
      "{'loss': 0.0216, 'grad_norm': 0.5628308057785034, 'learning_rate': 4.17948717948718e-06, 'epoch': 4.58}\n",
      "{'loss': 0.0142, 'grad_norm': 5.698306560516357, 'learning_rate': 4.076923076923077e-06, 'epoch': 4.59}\n",
      "{'loss': 0.0134, 'grad_norm': 0.048556674271821976, 'learning_rate': 3.974358974358974e-06, 'epoch': 4.6}\n",
      "{'loss': 0.0032, 'grad_norm': 0.07220398634672165, 'learning_rate': 3.8717948717948715e-06, 'epoch': 4.61}\n",
      "{'loss': 0.0117, 'grad_norm': 0.05882786959409714, 'learning_rate': 3.7692307692307694e-06, 'epoch': 4.62}\n",
      "{'loss': 0.0123, 'grad_norm': 0.07181373983621597, 'learning_rate': 3.666666666666667e-06, 'epoch': 4.63}\n",
      "{'loss': 0.0162, 'grad_norm': 1.1874510049819946, 'learning_rate': 3.5641025641025646e-06, 'epoch': 4.64}\n",
      "{'loss': 0.0099, 'grad_norm': 0.23989811539649963, 'learning_rate': 3.4615384615384617e-06, 'epoch': 4.65}\n",
      "{'loss': 0.0122, 'grad_norm': 2.905080795288086, 'learning_rate': 3.3589743589743593e-06, 'epoch': 4.66}\n",
      "{'loss': 0.0136, 'grad_norm': 0.8024747967720032, 'learning_rate': 3.2564102564102564e-06, 'epoch': 4.67}\n",
      "{'loss': 0.0014, 'grad_norm': 0.06584513932466507, 'learning_rate': 3.153846153846154e-06, 'epoch': 4.68}\n",
      "{'loss': 0.0185, 'grad_norm': 3.6758713722229004, 'learning_rate': 3.051282051282051e-06, 'epoch': 4.7}\n",
      "{'loss': 0.0151, 'grad_norm': 0.20175576210021973, 'learning_rate': 2.9487179487179486e-06, 'epoch': 4.71}\n",
      "{'loss': 0.0091, 'grad_norm': 0.048969388008117676, 'learning_rate': 2.846153846153846e-06, 'epoch': 4.72}\n",
      "{'loss': 0.0032, 'grad_norm': 0.0063002705574035645, 'learning_rate': 2.7435897435897438e-06, 'epoch': 4.73}\n",
      "{'loss': 0.0016, 'grad_norm': 0.023862088099122047, 'learning_rate': 2.641025641025641e-06, 'epoch': 4.74}\n",
      "{'loss': 0.0382, 'grad_norm': 1.027397632598877, 'learning_rate': 2.5384615384615385e-06, 'epoch': 4.75}\n",
      "{'loss': 0.0327, 'grad_norm': 0.830348789691925, 'learning_rate': 2.435897435897436e-06, 'epoch': 4.76}\n",
      "{'loss': 0.0155, 'grad_norm': 0.07868373394012451, 'learning_rate': 2.3333333333333336e-06, 'epoch': 4.77}\n",
      "{'loss': 0.0029, 'grad_norm': 0.5344168543815613, 'learning_rate': 2.2307692307692307e-06, 'epoch': 4.78}\n",
      "{'loss': 0.0034, 'grad_norm': 0.015663981437683105, 'learning_rate': 2.1282051282051283e-06, 'epoch': 4.79}\n",
      "{'loss': 0.0243, 'grad_norm': 2.789151668548584, 'learning_rate': 2.025641025641026e-06, 'epoch': 4.8}\n",
      "{'loss': 0.0055, 'grad_norm': 10.005961418151855, 'learning_rate': 1.9230769230769234e-06, 'epoch': 4.81}\n",
      "{'loss': 0.0031, 'grad_norm': 1.9513130187988281, 'learning_rate': 1.8205128205128205e-06, 'epoch': 4.82}\n",
      "{'loss': 0.0148, 'grad_norm': 4.098351955413818, 'learning_rate': 1.7179487179487179e-06, 'epoch': 4.83}\n",
      "{'loss': 0.0058, 'grad_norm': 0.00928123202174902, 'learning_rate': 1.6153846153846154e-06, 'epoch': 4.84}\n",
      "{'loss': 0.0024, 'grad_norm': 0.9929587244987488, 'learning_rate': 1.5128205128205128e-06, 'epoch': 4.85}\n",
      "{'loss': 0.0046, 'grad_norm': 0.12943115830421448, 'learning_rate': 1.4102564102564104e-06, 'epoch': 4.86}\n",
      "{'loss': 0.0271, 'grad_norm': 0.033599935472011566, 'learning_rate': 1.3076923076923077e-06, 'epoch': 4.87}\n",
      "{'loss': 0.0029, 'grad_norm': 0.051955919712781906, 'learning_rate': 1.2051282051282053e-06, 'epoch': 4.88}\n",
      "{'loss': 0.0122, 'grad_norm': 1.4471547603607178, 'learning_rate': 1.1025641025641026e-06, 'epoch': 4.89}\n",
      "{'loss': 0.0137, 'grad_norm': 11.198075294494629, 'learning_rate': 1.0000000000000002e-06, 'epoch': 4.9}\n",
      "{'loss': 0.0055, 'grad_norm': 0.006880871951580048, 'learning_rate': 8.974358974358974e-07, 'epoch': 4.91}\n",
      "{'loss': 0.009, 'grad_norm': 12.76534366607666, 'learning_rate': 7.94871794871795e-07, 'epoch': 4.92}\n",
      "{'loss': 0.0077, 'grad_norm': 2.2268922328948975, 'learning_rate': 6.923076923076923e-07, 'epoch': 4.93}\n",
      "{'loss': 0.0033, 'grad_norm': 0.1721419095993042, 'learning_rate': 5.897435897435898e-07, 'epoch': 4.94}\n",
      "{'loss': 0.0026, 'grad_norm': 0.7220984101295471, 'learning_rate': 4.871794871794872e-07, 'epoch': 4.95}\n",
      "{'loss': 0.0208, 'grad_norm': 0.463329941034317, 'learning_rate': 3.846153846153847e-07, 'epoch': 4.96}\n",
      "{'loss': 0.0178, 'grad_norm': 7.102720260620117, 'learning_rate': 2.820512820512821e-07, 'epoch': 4.97}\n",
      "{'loss': 0.0045, 'grad_norm': 0.04002932086586952, 'learning_rate': 1.794871794871795e-07, 'epoch': 4.98}\n",
      "{'loss': 0.0248, 'grad_norm': 0.06424934417009354, 'learning_rate': 7.692307692307692e-08, 'epoch': 4.99}\n"
     ]
    },
    {
     "data": {
      "application/vnd.jupyter.widget-view+json": {
       "model_id": "582a11a33b9e465fa250a9a042d2b1c7",
       "version_major": 2,
       "version_minor": 0
      },
      "text/plain": [
       "  0%|          | 0/128 [00:00<?, ?it/s]"
      ]
     },
     "metadata": {},
     "output_type": "display_data"
    },
    {
     "name": "stdout",
     "output_type": "stream",
     "text": [
      "{'eval_loss': 0.12530921399593353, 'eval_accuracy': 0.9735294117647059, 'eval_f1': 0.9741626794258373, 'eval_precision': 0.9514018691588785, 'eval_recall': 0.9980392156862745, 'eval_runtime': 28.8652, 'eval_samples_per_second': 35.337, 'eval_steps_per_second': 4.434, 'epoch': 5.0}\n",
      "{'train_runtime': 4119.4413, 'train_samples_per_second': 60.615, 'train_steps_per_second': 0.947, 'train_loss': 0.031737986804965215, 'epoch': 5.0}\n"
     ]
    },
    {
     "data": {
      "text/plain": [
       "TrainOutput(global_step=3900, training_loss=0.031737986804965215, metrics={'train_runtime': 4119.4413, 'train_samples_per_second': 60.615, 'train_steps_per_second': 0.947, 'total_flos': 6.566830964097024e+16, 'train_loss': 0.031737986804965215, 'epoch': 4.997597308986064})"
      ]
     },
     "execution_count": 12,
     "metadata": {},
     "output_type": "execute_result"
    }
   ],
   "source": [
    "trainer.train()"
   ]
  },
  {
   "cell_type": "code",
   "execution_count": 17,
   "metadata": {},
   "outputs": [
    {
     "name": "stdout",
     "output_type": "stream",
     "text": [
      "Trainable parameters: 124,647,170\n",
      "Non-trainable parameters: 0\n",
      "Trainable parameters: 124,647,170\n",
      "Non-trainable parameters: 0\n"
     ]
    }
   ],
   "source": [
    "model = RobertaForSequenceClassification.from_pretrained('../data/models/roberta_base_model_checkpoint/checkpoint-3900')\n",
    "\n",
    "trainable_params, non_trainable_params = count_parameters(model)\n",
    "print(f\"Trainable parameters: {trainable_params:,}\")\n",
    "print(f\"Non-trainable parameters: {non_trainable_params:,}\")\n",
    "\n",
    "for param in model.parameters():\n",
    "    param.requires_grad = True\n",
    "\n",
    "trainable_params, non_trainable_params = count_parameters(model)\n",
    "print(f\"Trainable parameters: {trainable_params:,}\")\n",
    "print(f\"Non-trainable parameters: {non_trainable_params:,}\")"
   ]
  },
  {
   "cell_type": "code",
   "execution_count": 18,
   "metadata": {},
   "outputs": [],
   "source": [
    "trainer = Trainer(model=model, compute_metrics=compute_metrics)"
   ]
  },
  {
   "cell_type": "code",
   "execution_count": 19,
   "metadata": {},
   "outputs": [
    {
     "data": {
      "application/vnd.jupyter.widget-view+json": {
       "model_id": "01ce11a0cc6b44f1aab324d266cda558",
       "version_major": 2,
       "version_minor": 0
      },
      "text/plain": [
       "  0%|          | 0/130 [00:00<?, ?it/s]"
      ]
     },
     "metadata": {},
     "output_type": "display_data"
    },
    {
     "data": {
      "text/plain": [
       "{'test_loss': 0.20604324340820312,\n",
       " 'test_accuracy': 0.9576923076923077,\n",
       " 'test_f1': 0.959409594095941,\n",
       " 'test_precision': 0.9219858156028369,\n",
       " 'test_recall': 1.0,\n",
       " 'test_runtime': 11.5177,\n",
       " 'test_samples_per_second': 90.296,\n",
       " 'test_steps_per_second': 11.287}"
      ]
     },
     "execution_count": 19,
     "metadata": {},
     "output_type": "execute_result"
    }
   ],
   "source": [
    "trainer.evaluate(test_dataset, metric_key_prefix='test')"
   ]
  },
  {
   "cell_type": "code",
   "execution_count": 20,
   "metadata": {},
   "outputs": [
    {
     "data": {
      "application/vnd.jupyter.widget-view+json": {
       "model_id": "6e01c195008349b5b343cded595ba9c5",
       "version_major": 2,
       "version_minor": 0
      },
      "text/plain": [
       "  0%|          | 0/6243 [00:00<?, ?it/s]"
      ]
     },
     "metadata": {},
     "output_type": "display_data"
    },
    {
     "data": {
      "text/plain": [
       "{'train_loss': 0.11609598249197006,\n",
       " 'train_accuracy': 0.9731678013616339,\n",
       " 'train_f1': 0.9738505971430802,\n",
       " 'train_precision': 0.9496840983481769,\n",
       " 'train_recall': 0.9992791349619543,\n",
       " 'train_runtime': 538.3044,\n",
       " 'train_samples_per_second': 92.773,\n",
       " 'train_steps_per_second': 11.598}"
      ]
     },
     "execution_count": 20,
     "metadata": {},
     "output_type": "execute_result"
    }
   ],
   "source": [
    "trainer.evaluate(train_dataset, metric_key_prefix='train')"
   ]
  },
  {
   "cell_type": "code",
   "execution_count": null,
   "metadata": {},
   "outputs": [],
   "source": []
  }
 ],
 "metadata": {
  "kernelspec": {
   "display_name": "cuda-enabled-tf",
   "language": "python",
   "name": "python3"
  },
  "language_info": {
   "codemirror_mode": {
    "name": "ipython",
    "version": 3
   },
   "file_extension": ".py",
   "mimetype": "text/x-python",
   "name": "python",
   "nbconvert_exporter": "python",
   "pygments_lexer": "ipython3",
   "version": "3.9.19"
  }
 },
 "nbformat": 4,
 "nbformat_minor": 2
}
